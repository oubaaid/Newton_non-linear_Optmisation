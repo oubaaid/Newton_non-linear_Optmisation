{
 "cells": [
  {
   "cell_type": "code",
   "execution_count": 64,
   "metadata": {},
   "outputs": [],
   "source": [
    "import numpy as np\n",
    "import matplotlib.pyplot as plt"
   ]
  },
  {
   "cell_type": "code",
   "execution_count": 65,
   "metadata": {},
   "outputs": [],
   "source": [
    "x=np.array([1,2,4,6,8,10,13])\n",
    "y=np.array([7,5,4,3,2.7,2.3,2.1])\n",
    "t0=[3,0.5]\n",
    "t=t0\n",
    "pigl=np.zeros(60)\n",
    "N = lambda t: 7*np.sum(np.exp(t[1]*x))+t[0]\n",
    "Da = lambda t: 2*np.sum(t[0]+7*np.exp(t[1]*x)-y)\n",
    "Db = lambda t: 2*np.sum((t[0]+7*np.exp(t[1]*x)-y)*(x*7*np.exp(t[1]*x)))"
   ]
  },
  {
   "cell_type": "code",
   "execution_count": 66,
   "metadata": {},
   "outputs": [
    {
     "data": {
      "text/plain": [
       "[<matplotlib.lines.Line2D at 0x1aa26290e10>]"
      ]
     },
     "execution_count": 66,
     "metadata": {},
     "output_type": "execute_result"
    },
    {
     "data": {
      "image/png": "[encoded data removed]",
      "text/plain": [
       "<Figure size 432x288 with 1 Axes>"
      ]
     },
     "metadata": {
      "needs_background": "light"
     },
     "output_type": "display_data"
    }
   ],
   "source": [
    "plt.plot(x,y,\"ro\")"
   ]
  },
  {
   "cell_type": "code",
   "execution_count": 77,
   "metadata": {},
   "outputs": [
    {
     "name": "stdout",
     "output_type": "stream",
     "text": [
      "0.5112040941915743\n",
      "0.5112040941915743\n",
      "0.5112040941915743\n",
      "0.5112040941915743\n",
      "0.5112040941915743\n",
      "0.5112040941915743\n",
      "0.5112040941915743\n",
      "0.5112040941915743\n",
      "0.5112040941915743\n",
      "0.5112040941915743\n",
      "0.5112040941915743\n",
      "0.5112040941915743\n",
      "0.5112040941915743\n",
      "0.5112040941915743\n",
      "0.5112040941915743\n",
      "0.5112040941915743\n",
      "0.5112040941915743\n",
      "0.5112040941915743\n",
      "0.5112040941915743\n",
      "0.5112040941915743\n",
      "0.5112040941915743\n",
      "0.5112040941915743\n",
      "0.5112040941915743\n",
      "0.5112040941915743\n",
      "0.5112040941915743\n",
      "0.5112040941915743\n",
      "0.5112040941915743\n",
      "0.5112040941915743\n",
      "0.5112040941915743\n",
      "0.5112040941915743\n",
      "shape of Y: (60,) \n",
      "shape of y: (7,) \n",
      "shape of z (60,)\n",
      "a 2.4887959059236064 \n",
      "b 0.4999891481950095 \n",
      "z [14.         13.76271186 13.52542373 13.28813559 13.05084746 12.81355932\n",
      " 12.57627119 12.33898305 12.10169492 11.86440678 11.62711864 11.38983051\n",
      " 11.15254237 10.91525424 10.6779661  10.44067797 10.20338983  9.96610169\n",
      "  9.72881356  9.49152542  9.25423729  9.01694915  8.77966102  8.54237288\n",
      "  8.30508475  8.06779661  7.83050847  7.59322034  7.3559322   7.11864407\n",
      "  6.88135593  6.6440678   6.40677966  6.16949153  5.93220339  5.69491525\n",
      "  5.45762712  5.22033898  4.98305085  4.74576271  4.50847458  4.27118644\n",
      "  4.03389831  3.79661017  3.55932203  3.3220339   3.08474576  2.84745763\n",
      "  2.61016949  2.37288136  2.13559322  1.89830508  1.66101695  1.42372881\n",
      "  1.18644068  0.94915254  0.71186441  0.47457627  0.23728814  0.        ]\n"
     ]
    }
   ],
   "source": [
    "for i in range(30):\n",
    "    a=Da(p)\n",
    "    b=Db(p)\n",
    "    Gradient=np.array([a, b])\n",
    "    D= N(t)/Gradient\n",
    "    P=t-D\n",
    "    err=np.linalg.norm(t-P)\n",
    "    print(err)\n",
    "    if err<0.00001:\n",
    "        break\n",
    "    pigl[i]= err\n",
    "    p=pk\n",
    "\n",
    "a = P[0]\n",
    "b = P[1]\n",
    "z = np.linspace(14,0,60)\n",
    "Y = (a + 7*np.exp(np.dot(b,z)))/1000\n",
    "print(\"shape of Y:\",Y.shape,\"\\nshape of y:\", y.shape,\"\\nshape of z\", z.shape)\n",
    "print(\"a\",a,\"\\nb\",b,\"\\nz\",z)"
   ]
  },
  {
   "cell_type": "code",
   "execution_count": 78,
   "metadata": {},
   "outputs": [
    {
     "data": {
      "image/png": "[encoded data removed]",
      "text/plain": [
       "<Figure size 432x288 with 1 Axes>"
      ]
     },
     "metadata": {
      "needs_background": "light"
     },
     "output_type": "display_data"
    }
   ],
   "source": [
    "plt.plot(x,y,\"ro\")\n",
    "plt.plot(Y)\n",
    "plt.show()"
   ]
  },
  {
   "cell_type": "code",
   "execution_count": null,
   "metadata": {},
   "outputs": [],
   "source": []
  }
 ],
 "metadata": {
  "kernelspec": {
   "display_name": "Python 3",
   "language": "python",
   "name": "python3"
  },
  "language_info": {
   "codemirror_mode": {
    "name": "ipython",
    "version": 3
   },
   "file_extension": ".py",
   "mimetype": "text/x-python",
   "name": "python",
   "nbconvert_exporter": "python",
   "pygments_lexer": "ipython3",
   "version": "3.7.0"
  }
 },
 "nbformat": 4,
 "nbformat_minor": 2
}
